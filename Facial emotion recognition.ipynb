{
 "cells": [
  {
   "cell_type": "markdown",
   "id": "7c2a7e42-6b4c-47c6-9d82-943a9439dd9f",
   "metadata": {},
   "source": [
    "A megoldott feladat egy 7 kimenettel rendelkező klasszifikáció, a felépített hálózat bemenetként kap egy emberi arcról egy képet, végeredményként megállapítja, hogy szerinte 7 érzelem (boldog, szomorú, dühös, riadt, meglepődött, undorott és semleges) közül melyik a leginkább igaz a képen látható arcról.\n",
    "\n",
    "Az adathalmazok forrása: https://www.kaggle.com/datasets/jonathanoheix/face-expression-recognition-dataset"
   ]
  },
  {
   "cell_type": "code",
   "execution_count": 14,
   "id": "9f8c8655-d80d-4da7-8762-43bde93828c4",
   "metadata": {},
   "outputs": [],
   "source": [
    "import tensorflow as tf\n",
    "from keras import Sequential\n",
    "from keras.layers import Convolution2D, MaxPooling2D, Flatten, Dropout, Dense, BatchNormalization\n",
    "from keras.callbacks import EarlyStopping, ReduceLROnPlateau\n",
    "from keras.preprocessing.image import ImageDataGenerator\n",
    "import matplotlib.pyplot as plt"
   ]
  },
  {
   "cell_type": "code",
   "execution_count": 2,
   "id": "1bdf512d-20e2-4edd-a3f2-bcc3cc572310",
   "metadata": {},
   "outputs": [],
   "source": [
    "imsize = 48"
   ]
  },
  {
   "cell_type": "code",
   "execution_count": null,
   "id": "1385b448-d2eb-42dc-93a2-09af45b508f8",
   "metadata": {},
   "outputs": [],
   "source": [
    "train_gen = ImageDataGenerator(rescale=1./255,\n",
    "                               rotation_range=15,\n",
    "                               width_shift_range=0.15,\n",
    "                               shear_range=0.15,\n",
    "                               zoom_range=0.15,\n",
    "                               horizontal_flip=True\n",
    "                              )\n",
    "\n",
    "train_data = train_gen.flow_from_directory(\"2-dataset\\\\train\",\n",
    "                                           target_size=(imsize, imsize),\n",
    "                                           color_mode='grayscale',\n",
    "                                           batch_size=32\n",
    "                                          )"
   ]
  },
  {
   "cell_type": "code",
   "execution_count": 3,
   "id": "82094a1e-3491-45ad-bfb1-7552e270c31c",
   "metadata": {},
   "outputs": [
    {
     "name": "stdout",
     "output_type": "stream",
     "text": [
      "Found 7066 images belonging to 7 classes.\n"
     ]
    }
   ],
   "source": [
    "test_gen = ImageDataGenerator(rescale=1./255)\n",
    "\n",
    "test_data = test_gen.flow_from_directory(\"2-dataset\\\\validation\",\n",
    "                                           target_size=(imsize, imsize),\n",
    "                                           color_mode='grayscale',\n",
    "                                           batch_size=32\n",
    "                                         )"
   ]
  },
  {
   "cell_type": "markdown",
   "id": "0502347c-2272-47ac-924e-28171eeaddf6",
   "metadata": {},
   "source": [
    "Az adatok már úgy lettek megadva, hogy ketté lett bontva egy tanító és egy validációs adathalmazra, az összes kép 48x48-as.\n",
    "\n",
    "A csoportonként megtalálható képek száma a következő:\n",
    "\n",
    "train:\n",
    "angry: 3993, disgust: 436, fear: 4103, happy: 7164, sad: 4938, surprise: 3205, neutral: 4982\n",
    "\n",
    "validation:\n",
    "angry: 960, disgust: 111, fear: 1018, happy: 1825, sad: 1139, surprise: 797, neutral: 1216\n",
    "\n",
    "A tanító adatbázis így nyilvánvalóan nagyon kiegyensúlyozatlan. Ezt a problémát először megpróbáltam úgy kezelni, hogy levágtam a többi csoportból, hogy többé-kevésbé egyenlő legyen a képek száma, de ez csak a pontosság csökkenésével járt, valószínűleg a túl kevés adat miatt. Így a megoldás az lett, hogy Data Augmentation segítségével megnöveltem az adathalmaz méretét, ami az overfitting túl korán jelentkezése ellen is segítséget nyújtott."
   ]
  },
  {
   "cell_type": "code",
   "execution_count": 16,
   "id": "e7583f14-26e4-464a-978e-abfccbc0b46a",
   "metadata": {},
   "outputs": [],
   "source": [
    "es = EarlyStopping(monitor='val_loss', min_delta=0, patience = 10, restore_best_weights=True)\n",
    "lr = ReduceLROnPlateau(monitor='val_loss', factor=0.5, patience=5, min_lr=1e-6)"
   ]
  },
  {
   "cell_type": "code",
   "execution_count": 17,
   "id": "aed330b5-08df-4926-8811-a549777d2594",
   "metadata": {},
   "outputs": [],
   "source": [
    "model = Sequential()\n",
    "model.add(Convolution2D(filters=64, kernel_size=(5, 5), input_shape=(imsize, imsize, 1), activation='elu', padding='same', kernel_initializer='he_normal'))\n",
    "model.add(BatchNormalization())\n",
    "model.add(Convolution2D(filters=64, kernel_size=(5, 5), activation='elu', padding='same', kernel_initializer='he_normal'))\n",
    "model.add(BatchNormalization())\n",
    "model.add(MaxPooling2D(pool_size=(2, 2)))\n",
    "model.add(Dropout(0.4))\n",
    "model.add(Convolution2D(filters=128, kernel_size=(3, 3), activation='elu', padding='same', kernel_initializer='he_normal'))\n",
    "model.add(BatchNormalization())\n",
    "model.add(Convolution2D(filters=128, kernel_size=(3, 3), activation='elu', padding='same', kernel_initializer='he_normal'))\n",
    "model.add(BatchNormalization())\n",
    "model.add(MaxPooling2D(pool_size=(2, 2)))\n",
    "model.add(Dropout(0.4))\n",
    "model.add(Convolution2D(filters=256, kernel_size=(3, 3), activation='elu', padding='same', kernel_initializer='he_normal'))\n",
    "model.add(BatchNormalization())\n",
    "model.add(Convolution2D(filters=256, kernel_size=(3, 3), activation='elu', padding='same', kernel_initializer='he_normal'))\n",
    "model.add(BatchNormalization())\n",
    "model.add(MaxPooling2D(pool_size=(2, 2)))\n",
    "model.add(Dropout(0.5))\n",
    "model.add(Convolution2D(filters=512, kernel_size=(3, 3), activation='elu', kernel_initializer='he_normal'))\n",
    "model.add(BatchNormalization())\n",
    "model.add(Dropout(0.5))\n",
    "model.add(Flatten())\n",
    "model.add(Dense(128, activation='elu', kernel_initializer='he_normal'))\n",
    "model.add(BatchNormalization())\n",
    "model.add(Dropout(0.6))\n",
    "model.add(Dense(7, activation='softmax'))"
   ]
  },
  {
   "cell_type": "code",
   "execution_count": 18,
   "id": "178ab8d8-5a19-4c0b-a825-ae69223c80d2",
   "metadata": {},
   "outputs": [],
   "source": [
    "model.compile(loss='categorical_crossentropy',\n",
    "              optimizer='adam',\n",
    "              metrics=['accuracy']\n",
    "             )"
   ]
  },
  {
   "cell_type": "code",
   "execution_count": 19,
   "id": "aa2766b0-03a5-4348-a50c-1f3cd0fa9a58",
   "metadata": {
    "tags": []
   },
   "outputs": [
    {
     "name": "stdout",
     "output_type": "stream",
     "text": [
      "Model: \"sequential_1\"\n",
      "_________________________________________________________________\n",
      " Layer (type)                Output Shape              Param #   \n",
      "=================================================================\n",
      " conv2d_7 (Conv2D)           (None, 48, 48, 64)        1664      \n",
      "                                                                 \n",
      " batch_normalization_8 (Batc  (None, 48, 48, 64)       256       \n",
      " hNormalization)                                                 \n",
      "                                                                 \n",
      " conv2d_8 (Conv2D)           (None, 48, 48, 64)        102464    \n",
      "                                                                 \n",
      " batch_normalization_9 (Batc  (None, 48, 48, 64)       256       \n",
      " hNormalization)                                                 \n",
      "                                                                 \n",
      " max_pooling2d_3 (MaxPooling  (None, 24, 24, 64)       0         \n",
      " 2D)                                                             \n",
      "                                                                 \n",
      " dropout_5 (Dropout)         (None, 24, 24, 64)        0         \n",
      "                                                                 \n",
      " conv2d_9 (Conv2D)           (None, 24, 24, 128)       73856     \n",
      "                                                                 \n",
      " batch_normalization_10 (Bat  (None, 24, 24, 128)      512       \n",
      " chNormalization)                                                \n",
      "                                                                 \n",
      " conv2d_10 (Conv2D)          (None, 24, 24, 128)       147584    \n",
      "                                                                 \n",
      " batch_normalization_11 (Bat  (None, 24, 24, 128)      512       \n",
      " chNormalization)                                                \n",
      "                                                                 \n",
      " max_pooling2d_4 (MaxPooling  (None, 12, 12, 128)      0         \n",
      " 2D)                                                             \n",
      "                                                                 \n",
      " dropout_6 (Dropout)         (None, 12, 12, 128)       0         \n",
      "                                                                 \n",
      " conv2d_11 (Conv2D)          (None, 12, 12, 256)       295168    \n",
      "                                                                 \n",
      " batch_normalization_12 (Bat  (None, 12, 12, 256)      1024      \n",
      " chNormalization)                                                \n",
      "                                                                 \n",
      " conv2d_12 (Conv2D)          (None, 12, 12, 256)       590080    \n",
      "                                                                 \n",
      " batch_normalization_13 (Bat  (None, 12, 12, 256)      1024      \n",
      " chNormalization)                                                \n",
      "                                                                 \n",
      " max_pooling2d_5 (MaxPooling  (None, 6, 6, 256)        0         \n",
      " 2D)                                                             \n",
      "                                                                 \n",
      " dropout_7 (Dropout)         (None, 6, 6, 256)         0         \n",
      "                                                                 \n",
      " conv2d_13 (Conv2D)          (None, 4, 4, 512)         1180160   \n",
      "                                                                 \n",
      " batch_normalization_14 (Bat  (None, 4, 4, 512)        2048      \n",
      " chNormalization)                                                \n",
      "                                                                 \n",
      " dropout_8 (Dropout)         (None, 4, 4, 512)         0         \n",
      "                                                                 \n",
      " flatten_1 (Flatten)         (None, 8192)              0         \n",
      "                                                                 \n",
      " dense_2 (Dense)             (None, 128)               1048704   \n",
      "                                                                 \n",
      " batch_normalization_15 (Bat  (None, 128)              512       \n",
      " chNormalization)                                                \n",
      "                                                                 \n",
      " dropout_9 (Dropout)         (None, 128)               0         \n",
      "                                                                 \n",
      " dense_3 (Dense)             (None, 7)                 903       \n",
      "                                                                 \n",
      "=================================================================\n",
      "Total params: 3,446,727\n",
      "Trainable params: 3,443,655\n",
      "Non-trainable params: 3,072\n",
      "_________________________________________________________________\n"
     ]
    }
   ],
   "source": [
    "model.summary()"
   ]
  },
  {
   "cell_type": "markdown",
   "id": "b382ee68-e8a3-43fc-95d3-c703fad0a98d",
   "metadata": {},
   "source": [
    "A felépített hálózat egy CNN.\n",
    "\n",
    "Minden konvolúciós réteget követ egy BatchNormalization réteg, amely normalizálja a bemeneti adatokat, ez minden MaxPooling réteg előtt kétszer ismétlődik meg, ezzel növelve a tanítás hatékonyságát. A konvolúciós réteg aktivációja elu, a kernel initializer pedig he normal, több kipróbált lehetőség közül ez a kombináció tűnt a leghatásosabbnak. Az utolsó kivételével minden konvolúciós rétegnél be lett állítva paddingre a same, hogy lassabban csökkenjen az inputok mérete, ezzel lehetőséget adva a mélyebb hálózat felépítésére. Minden MaxPooling után szerepel egy Dropout réteg az overfitting csökkentésének érdekében, a vége felé egyre nagyobb értékkel megadva.\n",
    "\n",
    "A végén a 4x4-es input kilapítása után két teljesen összekötött réteg segítségével történik meg a klasszifikáció, a kimeneti réteg aktivációja softmax és az output paramétereinek a száma 7."
   ]
  },
  {
   "cell_type": "code",
   "execution_count": 20,
   "id": "e8d8beb1-67a5-4bc3-b6c3-287dd076e665",
   "metadata": {
    "tags": []
   },
   "outputs": [
    {
     "name": "stdout",
     "output_type": "stream",
     "text": [
      "Epoch 1/100\n"
     ]
    },
    {
     "name": "stderr",
     "output_type": "stream",
     "text": [
      "C:\\Users\\novaa\\AppData\\Local\\Temp/ipykernel_7276/1618630974.py:1: UserWarning: `Model.fit_generator` is deprecated and will be removed in a future version. Please use `Model.fit`, which supports generators.\n",
      "  model.fit_generator(train_data,\n"
     ]
    },
    {
     "name": "stdout",
     "output_type": "stream",
     "text": [
      "901/901 [==============================] - 51s 56ms/step - loss: 2.0887 - accuracy: 0.2519 - val_loss: 1.6333 - val_accuracy: 0.3668 - lr: 0.0010\n",
      "Epoch 2/100\n",
      "901/901 [==============================] - 48s 53ms/step - loss: 1.6194 - accuracy: 0.3717 - val_loss: 1.4571 - val_accuracy: 0.4418 - lr: 0.0010\n",
      "Epoch 3/100\n",
      "901/901 [==============================] - 48s 53ms/step - loss: 1.4451 - accuracy: 0.4428 - val_loss: 1.3467 - val_accuracy: 0.4775 - lr: 0.0010\n",
      "Epoch 4/100\n",
      "901/901 [==============================] - 49s 54ms/step - loss: 1.3503 - accuracy: 0.4820 - val_loss: 1.2312 - val_accuracy: 0.5279 - lr: 0.0010\n",
      "Epoch 5/100\n",
      "901/901 [==============================] - 50s 55ms/step - loss: 1.2958 - accuracy: 0.5049 - val_loss: 1.2061 - val_accuracy: 0.5331 - lr: 0.0010\n",
      "Epoch 6/100\n",
      "901/901 [==============================] - 50s 55ms/step - loss: 1.2471 - accuracy: 0.5294 - val_loss: 1.1584 - val_accuracy: 0.5599 - lr: 0.0010\n",
      "Epoch 7/100\n",
      "901/901 [==============================] - 50s 55ms/step - loss: 1.2125 - accuracy: 0.5445 - val_loss: 1.1258 - val_accuracy: 0.5740 - lr: 0.0010\n",
      "Epoch 8/100\n",
      "901/901 [==============================] - 48s 54ms/step - loss: 1.1839 - accuracy: 0.5547 - val_loss: 1.1011 - val_accuracy: 0.5894 - lr: 0.0010\n",
      "Epoch 9/100\n",
      "901/901 [==============================] - 49s 54ms/step - loss: 1.1669 - accuracy: 0.5647 - val_loss: 1.0895 - val_accuracy: 0.5916 - lr: 0.0010\n",
      "Epoch 10/100\n",
      "901/901 [==============================] - 48s 53ms/step - loss: 1.1382 - accuracy: 0.5749 - val_loss: 1.0866 - val_accuracy: 0.5877 - lr: 0.0010\n",
      "Epoch 11/100\n",
      "901/901 [==============================] - 48s 53ms/step - loss: 1.1233 - accuracy: 0.5848 - val_loss: 1.0538 - val_accuracy: 0.6039 - lr: 0.0010\n",
      "Epoch 12/100\n",
      "901/901 [==============================] - 50s 55ms/step - loss: 1.1034 - accuracy: 0.5885 - val_loss: 1.0375 - val_accuracy: 0.6142 - lr: 0.0010\n",
      "Epoch 13/100\n",
      "901/901 [==============================] - 50s 56ms/step - loss: 1.0895 - accuracy: 0.5950 - val_loss: 1.0751 - val_accuracy: 0.5992 - lr: 0.0010\n",
      "Epoch 14/100\n",
      "901/901 [==============================] - 48s 54ms/step - loss: 1.0718 - accuracy: 0.6006 - val_loss: 1.0065 - val_accuracy: 0.6247 - lr: 0.0010\n",
      "Epoch 15/100\n",
      "901/901 [==============================] - 48s 54ms/step - loss: 1.0541 - accuracy: 0.6064 - val_loss: 1.0581 - val_accuracy: 0.6016 - lr: 0.0010\n",
      "Epoch 16/100\n",
      "901/901 [==============================] - 49s 54ms/step - loss: 1.0501 - accuracy: 0.6083 - val_loss: 1.0251 - val_accuracy: 0.6117 - lr: 0.0010\n",
      "Epoch 17/100\n",
      "901/901 [==============================] - 49s 54ms/step - loss: 1.0390 - accuracy: 0.6125 - val_loss: 1.0209 - val_accuracy: 0.6203 - lr: 0.0010\n",
      "Epoch 18/100\n",
      "901/901 [==============================] - 49s 55ms/step - loss: 1.0319 - accuracy: 0.6177 - val_loss: 1.0066 - val_accuracy: 0.6258 - lr: 0.0010\n",
      "Epoch 19/100\n",
      "901/901 [==============================] - 50s 55ms/step - loss: 1.0155 - accuracy: 0.6236 - val_loss: 1.0726 - val_accuracy: 0.5993 - lr: 0.0010\n",
      "Epoch 20/100\n",
      "901/901 [==============================] - 49s 54ms/step - loss: 0.9847 - accuracy: 0.6360 - val_loss: 0.9558 - val_accuracy: 0.6463 - lr: 5.0000e-04\n",
      "Epoch 21/100\n",
      "901/901 [==============================] - 49s 54ms/step - loss: 0.9687 - accuracy: 0.6408 - val_loss: 0.9430 - val_accuracy: 0.6486 - lr: 5.0000e-04\n",
      "Epoch 22/100\n",
      "901/901 [==============================] - 54s 60ms/step - loss: 0.9640 - accuracy: 0.6447 - val_loss: 0.9350 - val_accuracy: 0.6544 - lr: 5.0000e-04\n",
      "Epoch 23/100\n",
      "901/901 [==============================] - 49s 54ms/step - loss: 0.9531 - accuracy: 0.6484 - val_loss: 0.9277 - val_accuracy: 0.6582 - lr: 5.0000e-04\n",
      "Epoch 24/100\n",
      "901/901 [==============================] - 49s 54ms/step - loss: 0.9417 - accuracy: 0.6514 - val_loss: 0.9235 - val_accuracy: 0.6561 - lr: 5.0000e-04\n",
      "Epoch 25/100\n",
      "901/901 [==============================] - 49s 54ms/step - loss: 0.9372 - accuracy: 0.6541 - val_loss: 0.9201 - val_accuracy: 0.6628 - lr: 5.0000e-04\n",
      "Epoch 26/100\n",
      "901/901 [==============================] - 49s 54ms/step - loss: 0.9262 - accuracy: 0.6588 - val_loss: 0.9215 - val_accuracy: 0.6635 - lr: 5.0000e-04\n",
      "Epoch 27/100\n",
      "901/901 [==============================] - 49s 54ms/step - loss: 0.9285 - accuracy: 0.6592 - val_loss: 0.9268 - val_accuracy: 0.6586 - lr: 5.0000e-04\n",
      "Epoch 28/100\n",
      "901/901 [==============================] - 50s 55ms/step - loss: 0.9223 - accuracy: 0.6600 - val_loss: 0.9236 - val_accuracy: 0.6602 - lr: 5.0000e-04\n",
      "Epoch 29/100\n",
      "901/901 [==============================] - 49s 54ms/step - loss: 0.9181 - accuracy: 0.6655 - val_loss: 0.9161 - val_accuracy: 0.6603 - lr: 5.0000e-04\n",
      "Epoch 30/100\n",
      "901/901 [==============================] - 50s 55ms/step - loss: 0.9075 - accuracy: 0.6651 - val_loss: 0.9216 - val_accuracy: 0.6616 - lr: 5.0000e-04\n",
      "Epoch 31/100\n",
      "901/901 [==============================] - 49s 55ms/step - loss: 0.9094 - accuracy: 0.6643 - val_loss: 0.9122 - val_accuracy: 0.6653 - lr: 5.0000e-04\n",
      "Epoch 32/100\n",
      "901/901 [==============================] - 49s 54ms/step - loss: 0.9051 - accuracy: 0.6673 - val_loss: 0.9074 - val_accuracy: 0.6652 - lr: 5.0000e-04\n",
      "Epoch 33/100\n",
      "901/901 [==============================] - 49s 54ms/step - loss: 0.8924 - accuracy: 0.6729 - val_loss: 0.8981 - val_accuracy: 0.6693 - lr: 5.0000e-04\n",
      "Epoch 34/100\n",
      "901/901 [==============================] - 49s 54ms/step - loss: 0.8890 - accuracy: 0.6702 - val_loss: 0.9081 - val_accuracy: 0.6644 - lr: 5.0000e-04\n",
      "Epoch 35/100\n",
      "901/901 [==============================] - 48s 54ms/step - loss: 0.8820 - accuracy: 0.6753 - val_loss: 0.9091 - val_accuracy: 0.6649 - lr: 5.0000e-04\n",
      "Epoch 36/100\n",
      "901/901 [==============================] - 48s 54ms/step - loss: 0.8872 - accuracy: 0.6750 - val_loss: 0.9092 - val_accuracy: 0.6643 - lr: 5.0000e-04\n",
      "Epoch 37/100\n",
      "901/901 [==============================] - 49s 54ms/step - loss: 0.8837 - accuracy: 0.6749 - val_loss: 0.9075 - val_accuracy: 0.6700 - lr: 5.0000e-04\n",
      "Epoch 38/100\n",
      "901/901 [==============================] - 48s 54ms/step - loss: 0.8721 - accuracy: 0.6769 - val_loss: 0.9099 - val_accuracy: 0.6652 - lr: 5.0000e-04\n",
      "Epoch 39/100\n",
      "901/901 [==============================] - 48s 54ms/step - loss: 0.8605 - accuracy: 0.6859 - val_loss: 0.8919 - val_accuracy: 0.6704 - lr: 2.5000e-04\n",
      "Epoch 40/100\n",
      "901/901 [==============================] - 49s 54ms/step - loss: 0.8509 - accuracy: 0.6856 - val_loss: 0.8813 - val_accuracy: 0.6751 - lr: 2.5000e-04\n",
      "Epoch 41/100\n",
      "901/901 [==============================] - 49s 54ms/step - loss: 0.8428 - accuracy: 0.6888 - val_loss: 0.8988 - val_accuracy: 0.6686 - lr: 2.5000e-04\n",
      "Epoch 42/100\n",
      "901/901 [==============================] - 49s 54ms/step - loss: 0.8409 - accuracy: 0.6906 - val_loss: 0.8791 - val_accuracy: 0.6739 - lr: 2.5000e-04\n",
      "Epoch 43/100\n",
      "901/901 [==============================] - 49s 54ms/step - loss: 0.8428 - accuracy: 0.6890 - val_loss: 0.8875 - val_accuracy: 0.6744 - lr: 2.5000e-04\n",
      "Epoch 44/100\n",
      "901/901 [==============================] - 49s 54ms/step - loss: 0.8371 - accuracy: 0.6922 - val_loss: 0.8831 - val_accuracy: 0.6763 - lr: 2.5000e-04\n",
      "Epoch 45/100\n",
      "901/901 [==============================] - 49s 55ms/step - loss: 0.8393 - accuracy: 0.6945 - val_loss: 0.8880 - val_accuracy: 0.6806 - lr: 2.5000e-04\n",
      "Epoch 46/100\n",
      "901/901 [==============================] - 49s 54ms/step - loss: 0.8319 - accuracy: 0.6957 - val_loss: 0.8859 - val_accuracy: 0.6790 - lr: 2.5000e-04\n",
      "Epoch 47/100\n",
      "901/901 [==============================] - 49s 54ms/step - loss: 0.8263 - accuracy: 0.6975 - val_loss: 0.8832 - val_accuracy: 0.6734 - lr: 2.5000e-04\n",
      "Epoch 48/100\n",
      "901/901 [==============================] - 49s 54ms/step - loss: 0.8200 - accuracy: 0.7002 - val_loss: 0.8783 - val_accuracy: 0.6837 - lr: 1.2500e-04\n",
      "Epoch 49/100\n",
      "901/901 [==============================] - 50s 55ms/step - loss: 0.8122 - accuracy: 0.7014 - val_loss: 0.8852 - val_accuracy: 0.6772 - lr: 1.2500e-04\n",
      "Epoch 50/100\n",
      "901/901 [==============================] - 50s 55ms/step - loss: 0.8165 - accuracy: 0.7008 - val_loss: 0.8811 - val_accuracy: 0.6780 - lr: 1.2500e-04\n",
      "Epoch 51/100\n",
      "901/901 [==============================] - 52s 58ms/step - loss: 0.8103 - accuracy: 0.7045 - val_loss: 0.8808 - val_accuracy: 0.6800 - lr: 1.2500e-04\n",
      "Epoch 52/100\n",
      "901/901 [==============================] - 48s 54ms/step - loss: 0.8038 - accuracy: 0.7050 - val_loss: 0.8746 - val_accuracy: 0.6862 - lr: 1.2500e-04\n",
      "Epoch 53/100\n",
      "901/901 [==============================] - 49s 55ms/step - loss: 0.8083 - accuracy: 0.7033 - val_loss: 0.8701 - val_accuracy: 0.6854 - lr: 1.2500e-04\n",
      "Epoch 54/100\n",
      "901/901 [==============================] - 48s 54ms/step - loss: 0.7937 - accuracy: 0.7090 - val_loss: 0.8776 - val_accuracy: 0.6810 - lr: 1.2500e-04\n",
      "Epoch 55/100\n",
      "901/901 [==============================] - 48s 54ms/step - loss: 0.8063 - accuracy: 0.7045 - val_loss: 0.8697 - val_accuracy: 0.6851 - lr: 1.2500e-04\n",
      "Epoch 56/100\n",
      "901/901 [==============================] - 50s 55ms/step - loss: 0.8015 - accuracy: 0.7058 - val_loss: 0.8792 - val_accuracy: 0.6793 - lr: 1.2500e-04\n",
      "Epoch 57/100\n",
      "901/901 [==============================] - 50s 55ms/step - loss: 0.7986 - accuracy: 0.7076 - val_loss: 0.8820 - val_accuracy: 0.6837 - lr: 1.2500e-04\n",
      "Epoch 58/100\n",
      "901/901 [==============================] - 50s 55ms/step - loss: 0.7917 - accuracy: 0.7103 - val_loss: 0.8826 - val_accuracy: 0.6785 - lr: 1.2500e-04\n",
      "Epoch 59/100\n",
      "901/901 [==============================] - 50s 55ms/step - loss: 0.7920 - accuracy: 0.7114 - val_loss: 0.8728 - val_accuracy: 0.6892 - lr: 1.2500e-04\n",
      "Epoch 60/100\n",
      "901/901 [==============================] - 48s 54ms/step - loss: 0.7936 - accuracy: 0.7094 - val_loss: 0.8815 - val_accuracy: 0.6847 - lr: 1.2500e-04\n",
      "Epoch 61/100\n",
      "901/901 [==============================] - 48s 54ms/step - loss: 0.7852 - accuracy: 0.7134 - val_loss: 0.8691 - val_accuracy: 0.6854 - lr: 6.2500e-05\n",
      "Epoch 62/100\n",
      "901/901 [==============================] - 49s 54ms/step - loss: 0.7807 - accuracy: 0.7137 - val_loss: 0.8754 - val_accuracy: 0.6821 - lr: 6.2500e-05\n",
      "Epoch 63/100\n",
      "901/901 [==============================] - 49s 54ms/step - loss: 0.7937 - accuracy: 0.7082 - val_loss: 0.8731 - val_accuracy: 0.6854 - lr: 6.2500e-05\n",
      "Epoch 64/100\n",
      "901/901 [==============================] - 49s 55ms/step - loss: 0.7753 - accuracy: 0.7167 - val_loss: 0.8763 - val_accuracy: 0.6828 - lr: 6.2500e-05\n",
      "Epoch 65/100\n",
      "901/901 [==============================] - 49s 54ms/step - loss: 0.7833 - accuracy: 0.7125 - val_loss: 0.8738 - val_accuracy: 0.6877 - lr: 6.2500e-05\n",
      "Epoch 66/100\n",
      "901/901 [==============================] - 48s 54ms/step - loss: 0.7794 - accuracy: 0.7136 - val_loss: 0.8803 - val_accuracy: 0.6824 - lr: 6.2500e-05\n",
      "Epoch 67/100\n",
      "901/901 [==============================] - 48s 54ms/step - loss: 0.7794 - accuracy: 0.7119 - val_loss: 0.8753 - val_accuracy: 0.6836 - lr: 3.1250e-05\n",
      "Epoch 68/100\n",
      "901/901 [==============================] - 48s 54ms/step - loss: 0.7787 - accuracy: 0.7166 - val_loss: 0.8687 - val_accuracy: 0.6826 - lr: 3.1250e-05\n",
      "Epoch 69/100\n",
      "901/901 [==============================] - 48s 54ms/step - loss: 0.7807 - accuracy: 0.7143 - val_loss: 0.8685 - val_accuracy: 0.6858 - lr: 3.1250e-05\n",
      "Epoch 70/100\n",
      "901/901 [==============================] - 49s 54ms/step - loss: 0.7718 - accuracy: 0.7187 - val_loss: 0.8705 - val_accuracy: 0.6854 - lr: 3.1250e-05\n",
      "Epoch 71/100\n",
      "901/901 [==============================] - 49s 54ms/step - loss: 0.7750 - accuracy: 0.7164 - val_loss: 0.8731 - val_accuracy: 0.6841 - lr: 3.1250e-05\n",
      "Epoch 72/100\n",
      "901/901 [==============================] - 49s 55ms/step - loss: 0.7749 - accuracy: 0.7143 - val_loss: 0.8748 - val_accuracy: 0.6837 - lr: 3.1250e-05\n",
      "Epoch 73/100\n",
      "901/901 [==============================] - 49s 54ms/step - loss: 0.7769 - accuracy: 0.7167 - val_loss: 0.8742 - val_accuracy: 0.6882 - lr: 3.1250e-05\n",
      "Epoch 74/100\n",
      "901/901 [==============================] - 49s 54ms/step - loss: 0.7710 - accuracy: 0.7186 - val_loss: 0.8649 - val_accuracy: 0.6879 - lr: 3.1250e-05\n",
      "Epoch 75/100\n",
      "901/901 [==============================] - 50s 56ms/step - loss: 0.7756 - accuracy: 0.7178 - val_loss: 0.8690 - val_accuracy: 0.6874 - lr: 3.1250e-05\n",
      "Epoch 76/100\n",
      "901/901 [==============================] - 49s 54ms/step - loss: 0.7695 - accuracy: 0.7176 - val_loss: 0.8743 - val_accuracy: 0.6819 - lr: 3.1250e-05\n",
      "Epoch 77/100\n",
      "901/901 [==============================] - 49s 54ms/step - loss: 0.7751 - accuracy: 0.7172 - val_loss: 0.8630 - val_accuracy: 0.6908 - lr: 3.1250e-05\n",
      "Epoch 78/100\n",
      "901/901 [==============================] - 49s 54ms/step - loss: 0.7661 - accuracy: 0.7195 - val_loss: 0.8663 - val_accuracy: 0.6868 - lr: 3.1250e-05\n",
      "Epoch 79/100\n",
      "901/901 [==============================] - 48s 54ms/step - loss: 0.7648 - accuracy: 0.7241 - val_loss: 0.8737 - val_accuracy: 0.6847 - lr: 3.1250e-05\n",
      "Epoch 80/100\n",
      "901/901 [==============================] - 49s 54ms/step - loss: 0.7681 - accuracy: 0.7199 - val_loss: 0.8751 - val_accuracy: 0.6824 - lr: 3.1250e-05\n",
      "Epoch 81/100\n",
      "901/901 [==============================] - 49s 54ms/step - loss: 0.7654 - accuracy: 0.7184 - val_loss: 0.8685 - val_accuracy: 0.6878 - lr: 3.1250e-05\n",
      "Epoch 82/100\n",
      "901/901 [==============================] - 49s 54ms/step - loss: 0.7684 - accuracy: 0.7195 - val_loss: 0.8810 - val_accuracy: 0.6848 - lr: 3.1250e-05\n",
      "Epoch 83/100\n",
      "901/901 [==============================] - 48s 54ms/step - loss: 0.7745 - accuracy: 0.7156 - val_loss: 0.8784 - val_accuracy: 0.6853 - lr: 1.5625e-05\n",
      "Epoch 84/100\n",
      "901/901 [==============================] - 49s 54ms/step - loss: 0.7612 - accuracy: 0.7207 - val_loss: 0.8642 - val_accuracy: 0.6899 - lr: 1.5625e-05\n",
      "Epoch 85/100\n",
      "901/901 [==============================] - 48s 54ms/step - loss: 0.7660 - accuracy: 0.7216 - val_loss: 0.8708 - val_accuracy: 0.6811 - lr: 1.5625e-05\n",
      "Epoch 86/100\n",
      "901/901 [==============================] - 49s 54ms/step - loss: 0.7665 - accuracy: 0.7206 - val_loss: 0.8729 - val_accuracy: 0.6881 - lr: 1.5625e-05\n",
      "Epoch 87/100\n",
      "901/901 [==============================] - 94s 105ms/step - loss: 0.7728 - accuracy: 0.7168 - val_loss: 0.8686 - val_accuracy: 0.6898 - lr: 1.5625e-05\n"
     ]
    },
    {
     "data": {
      "text/plain": [
       "<keras.callbacks.History at 0x202b17b70a0>"
      ]
     },
     "execution_count": 20,
     "metadata": {},
     "output_type": "execute_result"
    }
   ],
   "source": [
    "model.fit_generator(train_data,\n",
    "                    epochs=100,\n",
    "                    validation_data=test_data,\n",
    "                    callbacks=[es, lr]\n",
    "                   )"
   ]
  },
  {
   "cell_type": "markdown",
   "id": "1f24a47a-3678-41cc-bd20-8525cb090408",
   "metadata": {},
   "source": [
    "A tanítás futásához 100 epoch lett beállítva, de ahogy látható ez nem futott le teljesen, mivel lett Early Stopping beállítva az overfitting ellen 10 epoch türelmi idővel, amely a tanítás végén visszaállította az addigi legjobb súlyokat.\n",
    "\n",
    "Továbbá be lett még állítva a ReduceLROnPlateau is, amely csökkentette a learning ratet, ha már 5 epoch óta nem történt javulás a validation loss monitorozása alapján."
   ]
  },
  {
   "cell_type": "code",
   "execution_count": 28,
   "id": "13356a03-bdea-414c-8b27-82bb4c64eeda",
   "metadata": {},
   "outputs": [
    {
     "name": "stdout",
     "output_type": "stream",
     "text": [
      "INFO:tensorflow:Assets written to: 2-dataset\\cnn8\\assets\n"
     ]
    }
   ],
   "source": [
    "model.save('2-dataset\\\\cnn8')"
   ]
  },
  {
   "cell_type": "code",
   "execution_count": 4,
   "id": "fd15d9bc-6b8b-4eac-90f5-e4dd3b6d7dee",
   "metadata": {},
   "outputs": [],
   "source": [
    "model = tf.keras.models.load_model('2-dataset\\\\cnn8')"
   ]
  },
  {
   "cell_type": "code",
   "execution_count": 5,
   "id": "1eea83a9-1354-4709-b9e6-871fb6d702b3",
   "metadata": {},
   "outputs": [],
   "source": [
    "import numpy as np\n",
    "import math"
   ]
  },
  {
   "cell_type": "code",
   "execution_count": 6,
   "id": "5464ed76-25c5-4b24-8b4d-1c64a6fb7786",
   "metadata": {},
   "outputs": [],
   "source": [
    "number_of_examples = len(test_data.filenames)\n",
    "number_of_generator_calls = math.ceil(number_of_examples / (1.0 * 32))\n",
    "\n",
    "test_labels = []\n",
    "\n",
    "for i in range(0,int(number_of_generator_calls)):\n",
    "    test_labels.extend(np.array(test_data[i][1]))"
   ]
  },
  {
   "cell_type": "code",
   "execution_count": 7,
   "id": "7ef7195b-6354-4629-bac0-28eaf789c3bd",
   "metadata": {},
   "outputs": [],
   "source": [
    "test_labels_one = np.array([])\n",
    "for i in range(len(test_labels)):\n",
    "    for j in range(len(test_labels[i])):\n",
    "        if(test_labels[i][j]==1):\n",
    "            test_labels_one = np.append(test_labels_one, j)"
   ]
  },
  {
   "cell_type": "code",
   "execution_count": 8,
   "id": "4fa8f56c-dc70-43fd-b0df-cdf5a087070d",
   "metadata": {},
   "outputs": [
    {
     "name": "stdout",
     "output_type": "stream",
     "text": [
      "(7066,)\n",
      "(7066, 1)\n",
      "(7066,)\n",
      "(7066, 1)\n"
     ]
    }
   ],
   "source": [
    "pred_Y = np.argmax(model.predict(test_data), axis=1)\n",
    "\n",
    "print(pred_Y.shape)\n",
    "pred_Y = pred_Y.reshape(pred_Y.shape[0], 1)\n",
    "print(pred_Y.shape)\n",
    "\n",
    "real_Y = test_labels_one\n",
    "\n",
    "print(real_Y.shape)\n",
    "real_Y = real_Y.reshape(real_Y.shape[0], 1)\n",
    "print(real_Y.shape)"
   ]
  },
  {
   "cell_type": "code",
   "execution_count": 9,
   "id": "e23e7c82-8573-4984-b898-187490391cfd",
   "metadata": {},
   "outputs": [
    {
     "data": {
      "text/plain": [
       "array([[0., 2.],\n",
       "       [3., 3.],\n",
       "       [4., 4.],\n",
       "       ...,\n",
       "       [0., 2.],\n",
       "       [6., 6.],\n",
       "       [3., 3.]])"
      ]
     },
     "execution_count": 9,
     "metadata": {},
     "output_type": "execute_result"
    }
   ],
   "source": [
    "np.concatenate((pred_Y, real_Y), axis=1)"
   ]
  },
  {
   "cell_type": "code",
   "execution_count": 10,
   "id": "663bee02-0caf-4ef8-a806-27e6509dc455",
   "metadata": {},
   "outputs": [],
   "source": [
    "import sklearn.metrics\n",
    "import math"
   ]
  },
  {
   "cell_type": "code",
   "execution_count": 11,
   "id": "652ff20b-d836-4a1d-80bf-4402e0f0f198",
   "metadata": {},
   "outputs": [
    {
     "name": "stdout",
     "output_type": "stream",
     "text": [
      "              precision    recall  f1-score   support\n",
      "\n",
      "       angry       0.60      0.61      0.61       960\n",
      "     disgust       0.78      0.63      0.70       111\n",
      "        fear       0.62      0.44      0.51      1018\n",
      "       happy       0.88      0.88      0.88      1825\n",
      "         sad       0.56      0.77      0.65      1216\n",
      "    surprise       0.59      0.51      0.55      1139\n",
      "     neutral       0.78      0.79      0.79       797\n",
      "\n",
      "    accuracy                           0.69      7066\n",
      "   macro avg       0.69      0.66      0.67      7066\n",
      "weighted avg       0.69      0.69      0.68      7066\n",
      "\n"
     ]
    }
   ],
   "source": [
    "cm = sklearn.metrics.confusion_matrix(real_Y, pred_Y)\n",
    "labels = [\"angry\", \"disgust\", \"fear\", \"happy\", \"sad\", \"surprise\", \"neutral\"]\n",
    "print(sklearn.metrics.classification_report(real_Y, pred_Y, target_names=labels))"
   ]
  },
  {
   "cell_type": "code",
   "execution_count": 12,
   "id": "3cda3d3a-8073-4d1c-94ad-54b583b97ffa",
   "metadata": {},
   "outputs": [],
   "source": [
    "import seaborn as sns"
   ]
  },
  {
   "cell_type": "code",
   "execution_count": 15,
   "id": "3dddf73d-8059-406a-990b-561b8cdb95bc",
   "metadata": {},
   "outputs": [
    {
     "data": {
      "image/png": "[encoded data removed]",
      "text/plain": [
       "<Figure size 720x720 with 2 Axes>"
      ]
     },
     "metadata": {
      "needs_background": "light"
     },
     "output_type": "display_data"
    }
   ],
   "source": [
    "cmn = cm.astype('float') / cm.sum(axis=1)[:, np.newaxis]\n",
    "fig, ax = plt.subplots(figsize=(10,10))\n",
    "sns.heatmap(cmn, annot=True, fmt='.2f', xticklabels=labels, yticklabels=labels)\n",
    "plt.ylabel('Actual')\n",
    "plt.xlabel('Predicted')\n",
    "plt.show(block=False)"
   ]
  },
  {
   "cell_type": "code",
   "execution_count": 16,
   "id": "1e55ddd7-cb92-4fce-a26f-85d667da12e7",
   "metadata": {},
   "outputs": [],
   "source": [
    "disp = sklearn.metrics.ConfusionMatrixDisplay(confusion_matrix=cm, display_labels=labels)"
   ]
  },
  {
   "cell_type": "code",
   "execution_count": 17,
   "id": "b0b9b21a-eb2b-420a-a7a1-d6808176c49c",
   "metadata": {},
   "outputs": [
    {
     "data": {
      "image/png": "[encoded data removed]",
      "text/plain": [
       "<Figure size 432x288 with 2 Axes>"
      ]
     },
     "metadata": {
      "needs_background": "light"
     },
     "output_type": "display_data"
    }
   ],
   "source": [
    "disp.plot(cmap=plt.cm.Blues)\n",
    "plt.show()"
   ]
  },
  {
   "cell_type": "markdown",
   "id": "3465bdb4-da7e-40cb-a2ab-ca1c00d84414",
   "metadata": {},
   "source": [
    "A tanítás után történt a teljes validációs adathalmaz lefuttatása a betanított modellen, ezzel lehetővé téve az eredmények kiértékelését. Erre a feladatra többféle módszert is alkalmaztam.\n",
    "\n",
    "A második és a harmadik egy-egy confusion matrix létrehozásához volt alkalmas, az első százalékos, a második pedig darabszám alapján adta meg az eltalált és az eltévesztett predikciók számát.\n",
    "Az első módszer pedig az összes label f1-scoreja alapján adott a pontosságra egy számot, amely ebben az esetben 69% és egyben a legjobb elért eredményem lett."
   ]
  },
  {
   "cell_type": "code",
   "execution_count": null,
   "id": "401142a8-c5ee-45a5-9a5d-fb3535d78432",
   "metadata": {},
   "outputs": [],
   "source": []
  }
 ],
 "metadata": {
  "kernelspec": {
   "display_name": "Python 3 (ipykernel)",
   "language": "python",
   "name": "python3"
  },
  "language_info": {
   "codemirror_mode": {
    "name": "ipython",
    "version": 3
   },
   "file_extension": ".py",
   "mimetype": "text/x-python",
   "name": "python",
   "nbconvert_exporter": "python",
   "pygments_lexer": "ipython3",
   "version": "3.9.7"
  }
 },
 "nbformat": 4,
 "nbformat_minor": 5
}
